{
 "cells": [
  {
   "cell_type": "markdown",
   "metadata": {},
   "source": [
    "## Importamos librerias "
   ]
  },
  {
   "cell_type": "code",
   "execution_count": 102,
   "metadata": {
    "collapsed": true
   },
   "outputs": [],
   "source": [
    "import pandas as pd \n",
    "import matplotlib.pyplot as plt\n",
    "%matplotlib inline"
   ]
  },
  {
   "cell_type": "markdown",
   "metadata": {},
   "source": [
    "# Households"
   ]
  },
  {
   "cell_type": "code",
   "execution_count": 91,
   "metadata": {
    "collapsed": true
   },
   "outputs": [],
   "source": [
    "general = pd.read_csv('/Users/servandotorres/Documents/data/households/general.csv')\n",
    "economy =  pd.read_csv('/Users/servandotorres/Documents/data/households/economy.csv')\n",
    "house_info = pd.read_csv('/Users/servandotorres/Documents/data/households/households_info.csv')\n",
    "social_services_access = pd.read_csv('/Users/servandotorres/Documents/data/households/social_services_access.csv')\n",
    "economy_1 = pd.read_csv('/Users/servandotorres/Documents/data/households/economy.csv', index_col='village')"
   ]
  },
  {
   "cell_type": "markdown",
   "metadata": {},
   "source": [
    "## Empezamos el analisis "
   ]
  },
  {
   "cell_type": "markdown",
   "metadata": {},
   "source": [
    "## Dataset general "
   ]
  },
  {
   "cell_type": "code",
   "execution_count": 110,
   "metadata": {},
   "outputs": [
    {
     "data": {
      "text/html": [
       "<div>\n",
       "<style>\n",
       "    .dataframe thead tr:only-child th {\n",
       "        text-align: right;\n",
       "    }\n",
       "\n",
       "    .dataframe thead th {\n",
       "        text-align: left;\n",
       "    }\n",
       "\n",
       "    .dataframe tbody tr th {\n",
       "        vertical-align: top;\n",
       "    }\n",
       "</style>\n",
       "<table border=\"1\" class=\"dataframe\">\n",
       "  <thead>\n",
       "    <tr style=\"text-align: right;\">\n",
       "      <th></th>\n",
       "      <th>id</th>\n",
       "      <th>gender</th>\n",
       "      <th>hh_head</th>\n",
       "      <th>relation_hh_head</th>\n",
       "      <th>gender_hh_head</th>\n",
       "      <th>district</th>\n",
       "      <th>ward</th>\n",
       "      <th>village</th>\n",
       "      <th>subvillage</th>\n",
       "      <th>house_condition</th>\n",
       "    </tr>\n",
       "  </thead>\n",
       "  <tbody>\n",
       "    <tr>\n",
       "      <th>0</th>\n",
       "      <td>V4-01</td>\n",
       "      <td>Male</td>\n",
       "      <td>Yes</td>\n",
       "      <td>NaN</td>\n",
       "      <td>NaN</td>\n",
       "      <td>Muheza</td>\n",
       "      <td>Misalai</td>\n",
       "      <td>Kazita</td>\n",
       "      <td>Kwemuyu</td>\n",
       "      <td>The house is not good</td>\n",
       "    </tr>\n",
       "    <tr>\n",
       "      <th>1</th>\n",
       "      <td>V4-02</td>\n",
       "      <td>Female</td>\n",
       "      <td>Yes</td>\n",
       "      <td>NaN</td>\n",
       "      <td>NaN</td>\n",
       "      <td>Muheza</td>\n",
       "      <td>Misalai</td>\n",
       "      <td>Kazita</td>\n",
       "      <td>Kwemuyu</td>\n",
       "      <td>The house is not good</td>\n",
       "    </tr>\n",
       "    <tr>\n",
       "      <th>2</th>\n",
       "      <td>V4-03</td>\n",
       "      <td>Female</td>\n",
       "      <td>Yes</td>\n",
       "      <td>NaN</td>\n",
       "      <td>NaN</td>\n",
       "      <td>Muheza</td>\n",
       "      <td>Misalai</td>\n",
       "      <td>Kazita</td>\n",
       "      <td>Kwemuyu</td>\n",
       "      <td>The house is normal</td>\n",
       "    </tr>\n",
       "    <tr>\n",
       "      <th>3</th>\n",
       "      <td>V4-04</td>\n",
       "      <td>Female</td>\n",
       "      <td>Yes</td>\n",
       "      <td>NaN</td>\n",
       "      <td>NaN</td>\n",
       "      <td>Muheza</td>\n",
       "      <td>Misalai</td>\n",
       "      <td>Kazita</td>\n",
       "      <td>Kwemuyu</td>\n",
       "      <td>The house is normal</td>\n",
       "    </tr>\n",
       "    <tr>\n",
       "      <th>4</th>\n",
       "      <td>V4-05</td>\n",
       "      <td>Male</td>\n",
       "      <td>Yes</td>\n",
       "      <td>NaN</td>\n",
       "      <td>NaN</td>\n",
       "      <td>Muheza</td>\n",
       "      <td>Misalai</td>\n",
       "      <td>Kazita</td>\n",
       "      <td>Kwemuyu</td>\n",
       "      <td>Good house</td>\n",
       "    </tr>\n",
       "  </tbody>\n",
       "</table>\n",
       "</div>"
      ],
      "text/plain": [
       "      id  gender hh_head relation_hh_head gender_hh_head district     ward  \\\n",
       "0  V4-01    Male     Yes              NaN            NaN   Muheza  Misalai   \n",
       "1  V4-02  Female     Yes              NaN            NaN   Muheza  Misalai   \n",
       "2  V4-03  Female     Yes              NaN            NaN   Muheza  Misalai   \n",
       "3  V4-04  Female     Yes              NaN            NaN   Muheza  Misalai   \n",
       "4  V4-05    Male     Yes              NaN            NaN   Muheza  Misalai   \n",
       "\n",
       "  village subvillage        house_condition  \n",
       "0  Kazita    Kwemuyu  The house is not good  \n",
       "1  Kazita    Kwemuyu  The house is not good  \n",
       "2  Kazita    Kwemuyu    The house is normal  \n",
       "3  Kazita    Kwemuyu    The house is normal  \n",
       "4  Kazita    Kwemuyu             Good house  "
      ]
     },
     "execution_count": 110,
     "metadata": {},
     "output_type": "execute_result"
    }
   ],
   "source": [
    "general.head()"
   ]
  },
  {
   "cell_type": "code",
   "execution_count": 108,
   "metadata": {},
   "outputs": [
    {
     "data": {
      "text/plain": [
       "id                    0\n",
       "gender                0\n",
       "hh_head               0\n",
       "relation_hh_head    226\n",
       "gender_hh_head      226\n",
       "district              0\n",
       "ward                  0\n",
       "village               0\n",
       "subvillage            0\n",
       "house_condition      46\n",
       "dtype: int64"
      ]
     },
     "execution_count": 108,
     "metadata": {},
     "output_type": "execute_result"
    }
   ],
   "source": [
    "general.isnull().sum()\n",
    "#esta un poco sucio"
   ]
  },
  {
   "cell_type": "code",
   "execution_count": 109,
   "metadata": {},
   "outputs": [
    {
     "data": {
      "text/plain": [
       "(339, 10)"
      ]
     },
     "execution_count": 109,
     "metadata": {},
     "output_type": "execute_result"
    }
   ],
   "source": [
    "general.head()\n",
    "general.shape"
   ]
  },
  {
   "cell_type": "code",
   "execution_count": 105,
   "metadata": {},
   "outputs": [
    {
     "data": {
      "text/html": [
       "<div>\n",
       "<style>\n",
       "    .dataframe thead tr:only-child th {\n",
       "        text-align: right;\n",
       "    }\n",
       "\n",
       "    .dataframe thead th {\n",
       "        text-align: left;\n",
       "    }\n",
       "\n",
       "    .dataframe tbody tr th {\n",
       "        vertical-align: top;\n",
       "    }\n",
       "</style>\n",
       "<table border=\"1\" class=\"dataframe\">\n",
       "  <thead>\n",
       "    <tr style=\"text-align: right;\">\n",
       "      <th></th>\n",
       "      <th>id</th>\n",
       "      <th>gender</th>\n",
       "      <th>hh_head</th>\n",
       "      <th>relation_hh_head</th>\n",
       "      <th>gender_hh_head</th>\n",
       "      <th>district</th>\n",
       "      <th>ward</th>\n",
       "      <th>village</th>\n",
       "      <th>subvillage</th>\n",
       "      <th>house_condition</th>\n",
       "    </tr>\n",
       "  </thead>\n",
       "  <tbody>\n",
       "    <tr>\n",
       "      <th>count</th>\n",
       "      <td>339</td>\n",
       "      <td>339</td>\n",
       "      <td>339</td>\n",
       "      <td>113</td>\n",
       "      <td>113</td>\n",
       "      <td>339</td>\n",
       "      <td>339</td>\n",
       "      <td>339</td>\n",
       "      <td>339</td>\n",
       "      <td>293</td>\n",
       "    </tr>\n",
       "    <tr>\n",
       "      <th>unique</th>\n",
       "      <td>339</td>\n",
       "      <td>2</td>\n",
       "      <td>2</td>\n",
       "      <td>5</td>\n",
       "      <td>2</td>\n",
       "      <td>1</td>\n",
       "      <td>2</td>\n",
       "      <td>8</td>\n",
       "      <td>39</td>\n",
       "      <td>75</td>\n",
       "    </tr>\n",
       "    <tr>\n",
       "      <th>top</th>\n",
       "      <td>V3-09</td>\n",
       "      <td>Male</td>\n",
       "      <td>Yes</td>\n",
       "      <td>husband / wife</td>\n",
       "      <td>Male</td>\n",
       "      <td>Muheza</td>\n",
       "      <td>Misalai</td>\n",
       "      <td>Misalai</td>\n",
       "      <td>Mlalo</td>\n",
       "      <td>Normal house</td>\n",
       "    </tr>\n",
       "    <tr>\n",
       "      <th>freq</th>\n",
       "      <td>1</td>\n",
       "      <td>179</td>\n",
       "      <td>226</td>\n",
       "      <td>74</td>\n",
       "      <td>100</td>\n",
       "      <td>339</td>\n",
       "      <td>224</td>\n",
       "      <td>70</td>\n",
       "      <td>20</td>\n",
       "      <td>77</td>\n",
       "    </tr>\n",
       "  </tbody>\n",
       "</table>\n",
       "</div>"
      ],
      "text/plain": [
       "           id gender hh_head relation_hh_head gender_hh_head district  \\\n",
       "count     339    339     339              113            113      339   \n",
       "unique    339      2       2                5              2        1   \n",
       "top     V3-09   Male     Yes   husband / wife           Male   Muheza   \n",
       "freq        1    179     226               74            100      339   \n",
       "\n",
       "           ward  village subvillage house_condition  \n",
       "count       339      339        339             293  \n",
       "unique        2        8         39              75  \n",
       "top     Misalai  Misalai      Mlalo    Normal house  \n",
       "freq        224       70         20              77  "
      ]
     },
     "execution_count": 105,
     "metadata": {},
     "output_type": "execute_result"
    }
   ],
   "source": [
    "# Estadistica descriptiva \n",
    "general.describe()\n"
   ]
  },
  {
   "cell_type": "code",
   "execution_count": 106,
   "metadata": {},
   "outputs": [
    {
     "data": {
      "text/html": [
       "<div>\n",
       "<style>\n",
       "    .dataframe thead tr:only-child th {\n",
       "        text-align: right;\n",
       "    }\n",
       "\n",
       "    .dataframe thead th {\n",
       "        text-align: left;\n",
       "    }\n",
       "\n",
       "    .dataframe tbody tr th {\n",
       "        vertical-align: top;\n",
       "    }\n",
       "</style>\n",
       "<table border=\"1\" class=\"dataframe\">\n",
       "  <thead>\n",
       "    <tr style=\"text-align: right;\">\n",
       "      <th></th>\n",
       "      <th>count</th>\n",
       "      <th>unique</th>\n",
       "      <th>top</th>\n",
       "      <th>freq</th>\n",
       "    </tr>\n",
       "  </thead>\n",
       "  <tbody>\n",
       "    <tr>\n",
       "      <th>id</th>\n",
       "      <td>339</td>\n",
       "      <td>339</td>\n",
       "      <td>V3-09</td>\n",
       "      <td>1</td>\n",
       "    </tr>\n",
       "    <tr>\n",
       "      <th>gender</th>\n",
       "      <td>339</td>\n",
       "      <td>2</td>\n",
       "      <td>Male</td>\n",
       "      <td>179</td>\n",
       "    </tr>\n",
       "    <tr>\n",
       "      <th>hh_head</th>\n",
       "      <td>339</td>\n",
       "      <td>2</td>\n",
       "      <td>Yes</td>\n",
       "      <td>226</td>\n",
       "    </tr>\n",
       "    <tr>\n",
       "      <th>relation_hh_head</th>\n",
       "      <td>113</td>\n",
       "      <td>5</td>\n",
       "      <td>husband / wife</td>\n",
       "      <td>74</td>\n",
       "    </tr>\n",
       "    <tr>\n",
       "      <th>gender_hh_head</th>\n",
       "      <td>113</td>\n",
       "      <td>2</td>\n",
       "      <td>Male</td>\n",
       "      <td>100</td>\n",
       "    </tr>\n",
       "    <tr>\n",
       "      <th>district</th>\n",
       "      <td>339</td>\n",
       "      <td>1</td>\n",
       "      <td>Muheza</td>\n",
       "      <td>339</td>\n",
       "    </tr>\n",
       "    <tr>\n",
       "      <th>ward</th>\n",
       "      <td>339</td>\n",
       "      <td>2</td>\n",
       "      <td>Misalai</td>\n",
       "      <td>224</td>\n",
       "    </tr>\n",
       "    <tr>\n",
       "      <th>village</th>\n",
       "      <td>339</td>\n",
       "      <td>8</td>\n",
       "      <td>Misalai</td>\n",
       "      <td>70</td>\n",
       "    </tr>\n",
       "    <tr>\n",
       "      <th>subvillage</th>\n",
       "      <td>339</td>\n",
       "      <td>39</td>\n",
       "      <td>Mlalo</td>\n",
       "      <td>20</td>\n",
       "    </tr>\n",
       "    <tr>\n",
       "      <th>house_condition</th>\n",
       "      <td>293</td>\n",
       "      <td>75</td>\n",
       "      <td>Normal house</td>\n",
       "      <td>77</td>\n",
       "    </tr>\n",
       "  </tbody>\n",
       "</table>\n",
       "</div>"
      ],
      "text/plain": [
       "                 count unique             top freq\n",
       "id                 339    339           V3-09    1\n",
       "gender             339      2            Male  179\n",
       "hh_head            339      2             Yes  226\n",
       "relation_hh_head   113      5  husband / wife   74\n",
       "gender_hh_head     113      2            Male  100\n",
       "district           339      1          Muheza  339\n",
       "ward               339      2         Misalai  224\n",
       "village            339      8         Misalai   70\n",
       "subvillage         339     39           Mlalo   20\n",
       "house_condition    293     75    Normal house   77"
      ]
     },
     "execution_count": 106,
     "metadata": {},
     "output_type": "execute_result"
    }
   ],
   "source": [
    "#Descricion categorica \n",
    "general.describe(include=[np.object, pd.Categorical]).T\n"
   ]
  },
  {
   "cell_type": "markdown",
   "metadata": {},
   "source": [
    "## Economia "
   ]
  },
  {
   "cell_type": "code",
   "execution_count": 112,
   "metadata": {},
   "outputs": [
    {
     "data": {
      "text/html": [
       "<div>\n",
       "<style>\n",
       "    .dataframe thead tr:only-child th {\n",
       "        text-align: right;\n",
       "    }\n",
       "\n",
       "    .dataframe thead th {\n",
       "        text-align: left;\n",
       "    }\n",
       "\n",
       "    .dataframe tbody tr th {\n",
       "        vertical-align: top;\n",
       "    }\n",
       "</style>\n",
       "<table border=\"1\" class=\"dataframe\">\n",
       "  <thead>\n",
       "    <tr style=\"text-align: right;\">\n",
       "      <th></th>\n",
       "      <th>id</th>\n",
       "      <th>village</th>\n",
       "      <th>acres_own_land</th>\n",
       "      <th>acres_rent_land</th>\n",
       "      <th>acres_not_paying_land</th>\n",
       "      <th>certificate</th>\n",
       "      <th>acres_cultivate_land</th>\n",
       "      <th>land_use</th>\n",
       "      <th>decision_maker</th>\n",
       "      <th>savings</th>\n",
       "    </tr>\n",
       "  </thead>\n",
       "  <tbody>\n",
       "    <tr>\n",
       "      <th>0</th>\n",
       "      <td>V4-01</td>\n",
       "      <td>Kazita</td>\n",
       "      <td>7.0</td>\n",
       "      <td>0.0</td>\n",
       "      <td>0.0</td>\n",
       "      <td>No</td>\n",
       "      <td>7.0</td>\n",
       "      <td>Crop cultivation</td>\n",
       "      <td>father</td>\n",
       "      <td>Yes</td>\n",
       "    </tr>\n",
       "    <tr>\n",
       "      <th>1</th>\n",
       "      <td>V4-02</td>\n",
       "      <td>Kazita</td>\n",
       "      <td>0.5</td>\n",
       "      <td>0.0</td>\n",
       "      <td>0.0</td>\n",
       "      <td>No</td>\n",
       "      <td>0.5</td>\n",
       "      <td>Crop cultivation</td>\n",
       "      <td>mother</td>\n",
       "      <td>No</td>\n",
       "    </tr>\n",
       "    <tr>\n",
       "      <th>2</th>\n",
       "      <td>V4-03</td>\n",
       "      <td>Kazita</td>\n",
       "      <td>4.0</td>\n",
       "      <td>0.0</td>\n",
       "      <td>0.0</td>\n",
       "      <td>No</td>\n",
       "      <td>1.0</td>\n",
       "      <td>Crop cultivation</td>\n",
       "      <td>mother</td>\n",
       "      <td>Yes</td>\n",
       "    </tr>\n",
       "    <tr>\n",
       "      <th>3</th>\n",
       "      <td>V4-04</td>\n",
       "      <td>Kazita</td>\n",
       "      <td>1.5</td>\n",
       "      <td>0.0</td>\n",
       "      <td>0.0</td>\n",
       "      <td>Yes</td>\n",
       "      <td>1.5</td>\n",
       "      <td>Crop cultivation</td>\n",
       "      <td>both</td>\n",
       "      <td>Yes</td>\n",
       "    </tr>\n",
       "    <tr>\n",
       "      <th>4</th>\n",
       "      <td>V4-05</td>\n",
       "      <td>Kazita</td>\n",
       "      <td>0.0</td>\n",
       "      <td>0.0</td>\n",
       "      <td>0.0</td>\n",
       "      <td>No</td>\n",
       "      <td>0.0</td>\n",
       "      <td>NaN</td>\n",
       "      <td>father</td>\n",
       "      <td>Yes</td>\n",
       "    </tr>\n",
       "  </tbody>\n",
       "</table>\n",
       "</div>"
      ],
      "text/plain": [
       "      id village  acres_own_land  acres_rent_land  acres_not_paying_land  \\\n",
       "0  V4-01  Kazita             7.0              0.0                    0.0   \n",
       "1  V4-02  Kazita             0.5              0.0                    0.0   \n",
       "2  V4-03  Kazita             4.0              0.0                    0.0   \n",
       "3  V4-04  Kazita             1.5              0.0                    0.0   \n",
       "4  V4-05  Kazita             0.0              0.0                    0.0   \n",
       "\n",
       "  certificate  acres_cultivate_land          land_use decision_maker savings  \n",
       "0          No                   7.0  Crop cultivation         father     Yes  \n",
       "1          No                   0.5  Crop cultivation         mother      No  \n",
       "2          No                   1.0  Crop cultivation         mother     Yes  \n",
       "3         Yes                   1.5  Crop cultivation           both     Yes  \n",
       "4          No                   0.0               NaN         father     Yes  "
      ]
     },
     "execution_count": 112,
     "metadata": {},
     "output_type": "execute_result"
    }
   ],
   "source": [
    "economy.head()"
   ]
  },
  {
   "cell_type": "markdown",
   "metadata": {},
   "source": [
    "## Vision global de el tomador de decisiones "
   ]
  },
  {
   "cell_type": "code",
   "execution_count": 89,
   "metadata": {},
   "outputs": [
    {
     "data": {
      "text/plain": [
       "<matplotlib.axes._subplots.AxesSubplot at 0x1131985c0>"
      ]
     },
     "execution_count": 89,
     "metadata": {},
     "output_type": "execute_result"
    },
    {
     "data": {
      "image/png": "[encoded data removed]",
      "text/plain": [
       "<matplotlib.figure.Figure at 0x11345f588>"
      ]
     },
     "metadata": {},
     "output_type": "display_data"
    }
   ],
   "source": [
    "sns.countplot(y='decision_maker', data=economy)"
   ]
  },
  {
   "cell_type": "code",
   "execution_count": 114,
   "metadata": {},
   "outputs": [
    {
     "data": {
      "text/plain": [
       "id                       0\n",
       "village                  0\n",
       "acres_own_land           0\n",
       "acres_rent_land          2\n",
       "acres_not_paying_land    2\n",
       "certificate              1\n",
       "acres_cultivate_land     2\n",
       "land_use                 6\n",
       "decision_maker           0\n",
       "savings                  0\n",
       "dtype: int64"
      ]
     },
     "execution_count": 114,
     "metadata": {},
     "output_type": "execute_result"
    }
   ],
   "source": [
    "#Valores nulos \n",
    "economy.isnull().sum()"
   ]
  },
  {
   "cell_type": "markdown",
   "metadata": {},
   "source": [
    "### Superficie en propiedad por pueblo "
   ]
  },
  {
   "cell_type": "code",
   "execution_count": 116,
   "metadata": {},
   "outputs": [
    {
     "data": {
      "image/png": "[encoded data removed]",
      "text/plain": [
       "<matplotlib.figure.Figure at 0x1a1aa7f400>"
      ]
     },
     "metadata": {},
     "output_type": "display_data"
    }
   ],
   "source": [
    "\n",
    "ax = sns.barplot(x='village', y='acres_own_land', data=economy)\n",
    "ax.figure.set_size_inches(16, 4)"
   ]
  },
  {
   "cell_type": "code",
   "execution_count": 120,
   "metadata": {},
   "outputs": [
    {
     "data": {
      "image/png": "[encoded data removed]",
      "text/plain": [
       "<matplotlib.figure.Figure at 0x1a1acdb0f0>"
      ]
     },
     "metadata": {},
     "output_type": "display_data"
    }
   ],
   "source": [
    "ax = sns.barplot(x='village', y='acres_own_land', hue='land_use', \n",
    "                 data=economy, palette='Greys')\n",
    "ax.figure.set_size_inches(16,4)"
   ]
  },
  {
   "cell_type": "markdown",
   "metadata": {},
   "source": [
    "# Propiedad"
   ]
  },
  {
   "cell_type": "code",
   "execution_count": 85,
   "metadata": {},
   "outputs": [
    {
     "data": {
      "image/png": "[encoded data removed]",
      "text/plain": [
       "<matplotlib.figure.Figure at 0x1131a8f98>"
      ]
     },
     "metadata": {},
     "output_type": "display_data"
    }
   ],
   "source": [
    "ax = sns.barplot(x='village', y='acres_own_land', data=economy)\n",
    "ax.figure.set_size_inches(16, 4)"
   ]
  },
  {
   "cell_type": "markdown",
   "metadata": {},
   "source": [
    "# No paga"
   ]
  },
  {
   "cell_type": "code",
   "execution_count": 87,
   "metadata": {},
   "outputs": [
    {
     "data": {
      "image/png": "[encoded data removed]",
      "text/plain": [
       "<matplotlib.figure.Figure at 0x113357080>"
      ]
     },
     "metadata": {},
     "output_type": "display_data"
    }
   ],
   "source": [
    "ax = sns.barplot(x='village', y='acres_not_paying_land', data=economy)\n",
    "ax.figure.set_size_inches(16, 4)"
   ]
  },
  {
   "cell_type": "markdown",
   "metadata": {},
   "source": [
    "# Aquila"
   ]
  },
  {
   "cell_type": "code",
   "execution_count": 88,
   "metadata": {},
   "outputs": [
    {
     "data": {
      "image/png": "[encoded data removed]",
      "text/plain": [
       "<matplotlib.figure.Figure at 0x113495dd8>"
      ]
     },
     "metadata": {},
     "output_type": "display_data"
    }
   ],
   "source": [
    "ax = sns.barplot(x='village', y='acres_rent_land', data=economy)\n",
    "ax.figure.set_size_inches(16, 4)"
   ]
  },
  {
   "cell_type": "code",
   "execution_count": 23,
   "metadata": {},
   "outputs": [
    {
     "data": {
      "text/html": [
       "<div>\n",
       "<style>\n",
       "    .dataframe thead tr:only-child th {\n",
       "        text-align: right;\n",
       "    }\n",
       "\n",
       "    .dataframe thead th {\n",
       "        text-align: left;\n",
       "    }\n",
       "\n",
       "    .dataframe tbody tr th {\n",
       "        vertical-align: top;\n",
       "    }\n",
       "</style>\n",
       "<table border=\"1\" class=\"dataframe\">\n",
       "  <thead>\n",
       "    <tr style=\"text-align: right;\">\n",
       "      <th></th>\n",
       "      <th>id</th>\n",
       "      <th>village</th>\n",
       "      <th>household_member</th>\n",
       "      <th>gender</th>\n",
       "      <th>age</th>\n",
       "      <th>edu_level</th>\n",
       "    </tr>\n",
       "  </thead>\n",
       "  <tbody>\n",
       "    <tr>\n",
       "      <th>0</th>\n",
       "      <td>V1-03</td>\n",
       "      <td>Misalai</td>\n",
       "      <td>1st member</td>\n",
       "      <td>male</td>\n",
       "      <td>80</td>\n",
       "      <td>Primary</td>\n",
       "    </tr>\n",
       "    <tr>\n",
       "      <th>1</th>\n",
       "      <td>V4-01</td>\n",
       "      <td>Kazita</td>\n",
       "      <td>2nd member</td>\n",
       "      <td>female</td>\n",
       "      <td>42</td>\n",
       "      <td>No formal education</td>\n",
       "    </tr>\n",
       "    <tr>\n",
       "      <th>2</th>\n",
       "      <td>V4-01</td>\n",
       "      <td>Kazita</td>\n",
       "      <td>3rd member</td>\n",
       "      <td>female</td>\n",
       "      <td>40</td>\n",
       "      <td>No formal education</td>\n",
       "    </tr>\n",
       "    <tr>\n",
       "      <th>3</th>\n",
       "      <td>V4-01</td>\n",
       "      <td>Kazita</td>\n",
       "      <td>1st member</td>\n",
       "      <td>male</td>\n",
       "      <td>55</td>\n",
       "      <td>Secundary</td>\n",
       "    </tr>\n",
       "    <tr>\n",
       "      <th>4</th>\n",
       "      <td>V4-01</td>\n",
       "      <td>Kazita</td>\n",
       "      <td>5th member</td>\n",
       "      <td>female</td>\n",
       "      <td>11</td>\n",
       "      <td>Primary</td>\n",
       "    </tr>\n",
       "  </tbody>\n",
       "</table>\n",
       "</div>"
      ],
      "text/plain": [
       "      id  village household_member  gender age            edu_level\n",
       "0  V1-03  Misalai       1st member    male  80              Primary\n",
       "1  V4-01   Kazita       2nd member  female  42  No formal education\n",
       "2  V4-01   Kazita       3rd member  female  40  No formal education\n",
       "3  V4-01   Kazita       1st member    male  55            Secundary\n",
       "4  V4-01   Kazita       5th member  female  11              Primary"
      ]
     },
     "execution_count": 23,
     "metadata": {},
     "output_type": "execute_result"
    }
   ],
   "source": [
    "house_info.head()"
   ]
  },
  {
   "cell_type": "code",
   "execution_count": 11,
   "metadata": {},
   "outputs": [
    {
     "data": {
      "text/html": [
       "<div>\n",
       "<style>\n",
       "    .dataframe thead tr:only-child th {\n",
       "        text-align: right;\n",
       "    }\n",
       "\n",
       "    .dataframe thead th {\n",
       "        text-align: left;\n",
       "    }\n",
       "\n",
       "    .dataframe tbody tr th {\n",
       "        vertical-align: top;\n",
       "    }\n",
       "</style>\n",
       "<table border=\"1\" class=\"dataframe\">\n",
       "  <thead>\n",
       "    <tr style=\"text-align: right;\">\n",
       "      <th></th>\n",
       "      <th>id</th>\n",
       "      <th>village</th>\n",
       "      <th>primary_school</th>\n",
       "      <th>service_quality</th>\n",
       "      <th>secundary_school</th>\n",
       "      <th>service_quality.1</th>\n",
       "      <th>market_place</th>\n",
       "      <th>service_quality.2</th>\n",
       "      <th>dispensary</th>\n",
       "      <th>service_quality.3</th>\n",
       "      <th>...</th>\n",
       "      <th>agriculture_storage</th>\n",
       "      <th>service_quality.8</th>\n",
       "      <th>agricultural_extension_service</th>\n",
       "      <th>service_quality.9</th>\n",
       "      <th>veterinary</th>\n",
       "      <th>service_quality.10</th>\n",
       "      <th>forest_service</th>\n",
       "      <th>service_quality.11</th>\n",
       "      <th>water_service</th>\n",
       "      <th>service_quality.12</th>\n",
       "    </tr>\n",
       "  </thead>\n",
       "  <tbody>\n",
       "    <tr>\n",
       "      <th>0</th>\n",
       "      <td>V4-01</td>\n",
       "      <td>Kazita</td>\n",
       "      <td>yes</td>\n",
       "      <td>Bad</td>\n",
       "      <td>no</td>\n",
       "      <td>No</td>\n",
       "      <td>no</td>\n",
       "      <td>No</td>\n",
       "      <td>no</td>\n",
       "      <td>No</td>\n",
       "      <td>...</td>\n",
       "      <td>no</td>\n",
       "      <td>No</td>\n",
       "      <td>no</td>\n",
       "      <td>No</td>\n",
       "      <td>no</td>\n",
       "      <td>No</td>\n",
       "      <td>no</td>\n",
       "      <td>No</td>\n",
       "      <td>no</td>\n",
       "      <td>No</td>\n",
       "    </tr>\n",
       "    <tr>\n",
       "      <th>1</th>\n",
       "      <td>V4-02</td>\n",
       "      <td>Kazita</td>\n",
       "      <td>yes</td>\n",
       "      <td>Good</td>\n",
       "      <td>yes</td>\n",
       "      <td>Good</td>\n",
       "      <td>no</td>\n",
       "      <td>No</td>\n",
       "      <td>no</td>\n",
       "      <td>No</td>\n",
       "      <td>...</td>\n",
       "      <td>no</td>\n",
       "      <td>No</td>\n",
       "      <td>no</td>\n",
       "      <td>No</td>\n",
       "      <td>yes</td>\n",
       "      <td>Bad</td>\n",
       "      <td>yes</td>\n",
       "      <td>Bad</td>\n",
       "      <td>no</td>\n",
       "      <td>No</td>\n",
       "    </tr>\n",
       "    <tr>\n",
       "      <th>2</th>\n",
       "      <td>V4-03</td>\n",
       "      <td>Kazita</td>\n",
       "      <td>yes</td>\n",
       "      <td>Good</td>\n",
       "      <td>yes</td>\n",
       "      <td>Good</td>\n",
       "      <td>yes</td>\n",
       "      <td>Good</td>\n",
       "      <td>yes</td>\n",
       "      <td>Good</td>\n",
       "      <td>...</td>\n",
       "      <td>no</td>\n",
       "      <td>No</td>\n",
       "      <td>no</td>\n",
       "      <td>No</td>\n",
       "      <td>no</td>\n",
       "      <td>No</td>\n",
       "      <td>yes</td>\n",
       "      <td>Good</td>\n",
       "      <td>yes</td>\n",
       "      <td>Good</td>\n",
       "    </tr>\n",
       "    <tr>\n",
       "      <th>3</th>\n",
       "      <td>V4-04</td>\n",
       "      <td>Kazita</td>\n",
       "      <td>yes</td>\n",
       "      <td>Good</td>\n",
       "      <td>yes</td>\n",
       "      <td>Good</td>\n",
       "      <td>yes</td>\n",
       "      <td>Good</td>\n",
       "      <td>no</td>\n",
       "      <td>No</td>\n",
       "      <td>...</td>\n",
       "      <td>no</td>\n",
       "      <td>No</td>\n",
       "      <td>no</td>\n",
       "      <td>No</td>\n",
       "      <td>yes</td>\n",
       "      <td>Good</td>\n",
       "      <td>yes</td>\n",
       "      <td>Good</td>\n",
       "      <td>yes</td>\n",
       "      <td>Good</td>\n",
       "    </tr>\n",
       "    <tr>\n",
       "      <th>4</th>\n",
       "      <td>V4-05</td>\n",
       "      <td>Kazita</td>\n",
       "      <td>yes</td>\n",
       "      <td>Good</td>\n",
       "      <td>yes</td>\n",
       "      <td>Good</td>\n",
       "      <td>yes</td>\n",
       "      <td>Good</td>\n",
       "      <td>yes</td>\n",
       "      <td>Good</td>\n",
       "      <td>...</td>\n",
       "      <td>no</td>\n",
       "      <td>No</td>\n",
       "      <td>no</td>\n",
       "      <td>No</td>\n",
       "      <td>no</td>\n",
       "      <td>No</td>\n",
       "      <td>no</td>\n",
       "      <td>No</td>\n",
       "      <td>yes</td>\n",
       "      <td>Good</td>\n",
       "    </tr>\n",
       "  </tbody>\n",
       "</table>\n",
       "<p>5 rows × 28 columns</p>\n",
       "</div>"
      ],
      "text/plain": [
       "      id village primary_school service_quality secundary_school  \\\n",
       "0  V4-01  Kazita            yes             Bad               no   \n",
       "1  V4-02  Kazita            yes            Good              yes   \n",
       "2  V4-03  Kazita            yes            Good              yes   \n",
       "3  V4-04  Kazita            yes            Good              yes   \n",
       "4  V4-05  Kazita            yes            Good              yes   \n",
       "\n",
       "  service_quality.1 market_place service_quality.2 dispensary  \\\n",
       "0                No           no                No         no   \n",
       "1              Good           no                No         no   \n",
       "2              Good          yes              Good        yes   \n",
       "3              Good          yes              Good         no   \n",
       "4              Good          yes              Good        yes   \n",
       "\n",
       "  service_quality.3        ...         agriculture_storage service_quality.8  \\\n",
       "0                No        ...                          no                No   \n",
       "1                No        ...                          no                No   \n",
       "2              Good        ...                          no                No   \n",
       "3                No        ...                          no                No   \n",
       "4              Good        ...                          no                No   \n",
       "\n",
       "  agricultural_extension_service service_quality.9 veterinary  \\\n",
       "0                             no                No         no   \n",
       "1                             no                No        yes   \n",
       "2                             no                No         no   \n",
       "3                             no                No        yes   \n",
       "4                             no                No         no   \n",
       "\n",
       "  service_quality.10 forest_service service_quality.11 water_service  \\\n",
       "0                 No             no                 No            no   \n",
       "1                Bad            yes                Bad            no   \n",
       "2                 No            yes               Good           yes   \n",
       "3               Good            yes               Good           yes   \n",
       "4                 No             no                 No           yes   \n",
       "\n",
       "  service_quality.12  \n",
       "0                 No  \n",
       "1                 No  \n",
       "2               Good  \n",
       "3               Good  \n",
       "4               Good  \n",
       "\n",
       "[5 rows x 28 columns]"
      ]
     },
     "execution_count": 11,
     "metadata": {},
     "output_type": "execute_result"
    }
   ],
   "source": [
    "social_services_access.head()"
   ]
  },
  {
   "cell_type": "markdown",
   "metadata": {},
   "source": [
    "# Water access\n"
   ]
  },
  {
   "cell_type": "code",
   "execution_count": 21,
   "metadata": {
    "collapsed": true
   },
   "outputs": [],
   "source": [
    "drinking_water_distance = pd.read_csv('/Users/servandotorres/Documents/data/water-access/drinking_water_distance.csv')\n",
    "water_collection = pd.read_csv('/Users/servandotorres/Documents/data/water-access/water_collection.csv')\n",
    "water_collection = pd.read_csv('/Users/servandotorres/Documents/data/water-access/water_collection.csv')\n",
    "water_payment = pd.read_csv('/Users/servandotorres/Documents/data/water-access/water_payment.csv')\n",
    "water_quality = pd.read_csv('/Users/servandotorres/Documents/data/water-access/water_quality.csv')\n",
    "water_sanitation = pd.read_csv('/Users/servandotorres/Documents/data/water-access/water_sanitation.csv')\n",
    "\n",
    "\n"
   ]
  },
  {
   "cell_type": "code",
   "execution_count": 31,
   "metadata": {},
   "outputs": [
    {
     "data": {
      "text/plain": [
       "array(['8 =Kwelumbizi', 'Kazita', 'Kizerui', 'Kwemsoso', 'Mgambo',\n",
       "       'Misalai', 'Shambangeda', 'Zirai'], dtype=object)"
      ]
     },
     "execution_count": 31,
     "metadata": {},
     "output_type": "execute_result"
    }
   ],
   "source": [
    "drinking_water_distance['village']\n",
    "\n",
    "import numpy as np\n",
    "np.unique(drinking_water_distance['village'])"
   ]
  },
  {
   "cell_type": "code",
   "execution_count": 40,
   "metadata": {},
   "outputs": [
    {
     "data": {
      "text/html": [
       "<div>\n",
       "<style>\n",
       "    .dataframe thead tr:only-child th {\n",
       "        text-align: right;\n",
       "    }\n",
       "\n",
       "    .dataframe thead th {\n",
       "        text-align: left;\n",
       "    }\n",
       "\n",
       "    .dataframe tbody tr th {\n",
       "        vertical-align: top;\n",
       "    }\n",
       "</style>\n",
       "<table border=\"1\" class=\"dataframe\">\n",
       "  <thead>\n",
       "    <tr style=\"text-align: right;\">\n",
       "      <th></th>\n",
       "      <th>id</th>\n",
       "      <th>village</th>\n",
       "      <th>rainy_season</th>\n",
       "      <th>dry_season</th>\n",
       "    </tr>\n",
       "  </thead>\n",
       "  <tbody>\n",
       "    <tr>\n",
       "      <th>0</th>\n",
       "      <td>V4-01</td>\n",
       "      <td>Kazita</td>\n",
       "      <td>1- 2 hours</td>\n",
       "      <td>1- 2 hours</td>\n",
       "    </tr>\n",
       "    <tr>\n",
       "      <th>1</th>\n",
       "      <td>V4-02</td>\n",
       "      <td>Kazita</td>\n",
       "      <td>5 - 10 min</td>\n",
       "      <td>5 - 10 min</td>\n",
       "    </tr>\n",
       "    <tr>\n",
       "      <th>2</th>\n",
       "      <td>V4-03</td>\n",
       "      <td>Kazita</td>\n",
       "      <td>5 - 10 min</td>\n",
       "      <td>5 - 10 min</td>\n",
       "    </tr>\n",
       "    <tr>\n",
       "      <th>3</th>\n",
       "      <td>V4-04</td>\n",
       "      <td>Kazita</td>\n",
       "      <td>1- 2 hours</td>\n",
       "      <td>1- 2 hours</td>\n",
       "    </tr>\n",
       "    <tr>\n",
       "      <th>4</th>\n",
       "      <td>V4-05</td>\n",
       "      <td>Kazita</td>\n",
       "      <td>&lt; 5 min</td>\n",
       "      <td>&lt; 5 min</td>\n",
       "    </tr>\n",
       "  </tbody>\n",
       "</table>\n",
       "</div>"
      ],
      "text/plain": [
       "      id village rainy_season  dry_season\n",
       "0  V4-01  Kazita   1- 2 hours  1- 2 hours\n",
       "1  V4-02  Kazita   5 - 10 min  5 - 10 min\n",
       "2  V4-03  Kazita   5 - 10 min  5 - 10 min\n",
       "3  V4-04  Kazita   1- 2 hours  1- 2 hours\n",
       "4  V4-05  Kazita      < 5 min     < 5 min"
      ]
     },
     "execution_count": 40,
     "metadata": {},
     "output_type": "execute_result"
    }
   ],
   "source": [
    "drinking_water_distance.head()\n"
   ]
  },
  {
   "cell_type": "code",
   "execution_count": 61,
   "metadata": {},
   "outputs": [
    {
     "data": {
      "text/html": [
       "<div>\n",
       "<style>\n",
       "    .dataframe thead tr:only-child th {\n",
       "        text-align: right;\n",
       "    }\n",
       "\n",
       "    .dataframe thead th {\n",
       "        text-align: left;\n",
       "    }\n",
       "\n",
       "    .dataframe tbody tr th {\n",
       "        vertical-align: top;\n",
       "    }\n",
       "</style>\n",
       "<table border=\"1\" class=\"dataframe\">\n",
       "  <thead>\n",
       "    <tr style=\"text-align: right;\">\n",
       "      <th></th>\n",
       "      <th>id</th>\n",
       "      <th>village</th>\n",
       "      <th>collector</th>\n",
       "      <th>no_buckets</th>\n",
       "    </tr>\n",
       "  </thead>\n",
       "  <tbody>\n",
       "    <tr>\n",
       "      <th>0</th>\n",
       "      <td>V4-01</td>\n",
       "      <td>Kazita</td>\n",
       "      <td>Adult women</td>\n",
       "      <td>6 - 7</td>\n",
       "    </tr>\n",
       "    <tr>\n",
       "      <th>1</th>\n",
       "      <td>V4-02</td>\n",
       "      <td>Kazita</td>\n",
       "      <td>Adult women</td>\n",
       "      <td>1 - 2</td>\n",
       "    </tr>\n",
       "    <tr>\n",
       "      <th>2</th>\n",
       "      <td>V4-03</td>\n",
       "      <td>Kazita</td>\n",
       "      <td>Adult women</td>\n",
       "      <td>2 - 3</td>\n",
       "    </tr>\n",
       "    <tr>\n",
       "      <th>3</th>\n",
       "      <td>V4-04</td>\n",
       "      <td>Kazita</td>\n",
       "      <td>Adult women</td>\n",
       "      <td>5 - 6</td>\n",
       "    </tr>\n",
       "    <tr>\n",
       "      <th>4</th>\n",
       "      <td>V4-05</td>\n",
       "      <td>Kazita</td>\n",
       "      <td>Adult men</td>\n",
       "      <td>1 - 2</td>\n",
       "    </tr>\n",
       "  </tbody>\n",
       "</table>\n",
       "</div>"
      ],
      "text/plain": [
       "      id village    collector no_buckets\n",
       "0  V4-01  Kazita  Adult women      6 - 7\n",
       "1  V4-02  Kazita  Adult women      1 - 2\n",
       "2  V4-03  Kazita  Adult women      2 - 3\n",
       "3  V4-04  Kazita  Adult women      5 - 6\n",
       "4  V4-05  Kazita    Adult men      1 - 2"
      ]
     },
     "execution_count": 61,
     "metadata": {},
     "output_type": "execute_result"
    }
   ],
   "source": [
    "water_collection.head()\n",
    "#water_collection.describe(include=[np.object, pd.Categorical]).T"
   ]
  },
  {
   "cell_type": "code",
   "execution_count": 35,
   "metadata": {},
   "outputs": [
    {
     "data": {
      "text/html": [
       "<div>\n",
       "<style>\n",
       "    .dataframe thead tr:only-child th {\n",
       "        text-align: right;\n",
       "    }\n",
       "\n",
       "    .dataframe thead th {\n",
       "        text-align: left;\n",
       "    }\n",
       "\n",
       "    .dataframe tbody tr th {\n",
       "        vertical-align: top;\n",
       "    }\n",
       "</style>\n",
       "<table border=\"1\" class=\"dataframe\">\n",
       "  <thead>\n",
       "    <tr style=\"text-align: right;\">\n",
       "      <th></th>\n",
       "      <th>id</th>\n",
       "      <th>village</th>\n",
       "      <th>rainy_season</th>\n",
       "      <th>dry_season</th>\n",
       "    </tr>\n",
       "  </thead>\n",
       "  <tbody>\n",
       "    <tr>\n",
       "      <th>0</th>\n",
       "      <td>V4-01</td>\n",
       "      <td>Kazita</td>\n",
       "      <td>No</td>\n",
       "      <td>No</td>\n",
       "    </tr>\n",
       "    <tr>\n",
       "      <th>1</th>\n",
       "      <td>V4-02</td>\n",
       "      <td>Kazita</td>\n",
       "      <td>No</td>\n",
       "      <td>No</td>\n",
       "    </tr>\n",
       "    <tr>\n",
       "      <th>2</th>\n",
       "      <td>V4-03</td>\n",
       "      <td>Kazita</td>\n",
       "      <td>No</td>\n",
       "      <td>No</td>\n",
       "    </tr>\n",
       "    <tr>\n",
       "      <th>3</th>\n",
       "      <td>V4-04</td>\n",
       "      <td>Kazita</td>\n",
       "      <td>No</td>\n",
       "      <td>No</td>\n",
       "    </tr>\n",
       "    <tr>\n",
       "      <th>4</th>\n",
       "      <td>V4-05</td>\n",
       "      <td>Kazita</td>\n",
       "      <td>No</td>\n",
       "      <td>No</td>\n",
       "    </tr>\n",
       "  </tbody>\n",
       "</table>\n",
       "</div>"
      ],
      "text/plain": [
       "      id village rainy_season dry_season\n",
       "0  V4-01  Kazita           No         No\n",
       "1  V4-02  Kazita           No         No\n",
       "2  V4-03  Kazita           No         No\n",
       "3  V4-04  Kazita           No         No\n",
       "4  V4-05  Kazita           No         No"
      ]
     },
     "execution_count": 35,
     "metadata": {},
     "output_type": "execute_result"
    }
   ],
   "source": [
    "water_payment.head()"
   ]
  },
  {
   "cell_type": "code",
   "execution_count": 124,
   "metadata": {},
   "outputs": [
    {
     "data": {
      "text/plain": [
       "<matplotlib.axes._subplots.AxesSubplot at 0x11346a400>"
      ]
     },
     "execution_count": 124,
     "metadata": {},
     "output_type": "execute_result"
    },
    {
     "data": {
      "image/png": "[encoded data removed]",
      "text/plain": [
       "<matplotlib.figure.Figure at 0x1a1ae49358>"
      ]
     },
     "metadata": {},
     "output_type": "display_data"
    }
   ],
   "source": [
    "sns.countplot(y='dry_season', data=water_payment)"
   ]
  },
  {
   "cell_type": "code",
   "execution_count": 125,
   "metadata": {},
   "outputs": [
    {
     "data": {
      "text/plain": [
       "<matplotlib.axes._subplots.AxesSubplot at 0x1135ee710>"
      ]
     },
     "execution_count": 125,
     "metadata": {},
     "output_type": "execute_result"
    },
    {
     "data": {
      "image/png": "[encoded data removed]",
      "text/plain": [
       "<matplotlib.figure.Figure at 0x111270cf8>"
      ]
     },
     "metadata": {},
     "output_type": "display_data"
    }
   ],
   "source": [
    "sns.countplot(y='rainy_season', data=water_payment)"
   ]
  },
  {
   "cell_type": "code",
   "execution_count": 59,
   "metadata": {},
   "outputs": [
    {
     "data": {
      "text/html": [
       "<div>\n",
       "<style>\n",
       "    .dataframe thead tr:only-child th {\n",
       "        text-align: right;\n",
       "    }\n",
       "\n",
       "    .dataframe thead th {\n",
       "        text-align: left;\n",
       "    }\n",
       "\n",
       "    .dataframe tbody tr th {\n",
       "        vertical-align: top;\n",
       "    }\n",
       "</style>\n",
       "<table border=\"1\" class=\"dataframe\">\n",
       "  <thead>\n",
       "    <tr style=\"text-align: right;\">\n",
       "      <th></th>\n",
       "      <th>count</th>\n",
       "      <th>unique</th>\n",
       "      <th>top</th>\n",
       "      <th>freq</th>\n",
       "    </tr>\n",
       "  </thead>\n",
       "  <tbody>\n",
       "    <tr>\n",
       "      <th>id</th>\n",
       "      <td>339</td>\n",
       "      <td>339</td>\n",
       "      <td>V3-09</td>\n",
       "      <td>1</td>\n",
       "    </tr>\n",
       "    <tr>\n",
       "      <th>village</th>\n",
       "      <td>339</td>\n",
       "      <td>8</td>\n",
       "      <td>Misalai</td>\n",
       "      <td>70</td>\n",
       "    </tr>\n",
       "    <tr>\n",
       "      <th>dry_season</th>\n",
       "      <td>339</td>\n",
       "      <td>5</td>\n",
       "      <td>Clean</td>\n",
       "      <td>152</td>\n",
       "    </tr>\n",
       "    <tr>\n",
       "      <th>rainy_season</th>\n",
       "      <td>339</td>\n",
       "      <td>5</td>\n",
       "      <td>Clean</td>\n",
       "      <td>127</td>\n",
       "    </tr>\n",
       "  </tbody>\n",
       "</table>\n",
       "</div>"
      ],
      "text/plain": [
       "             count unique      top freq\n",
       "id             339    339    V3-09    1\n",
       "village        339      8  Misalai   70\n",
       "dry_season     339      5    Clean  152\n",
       "rainy_season   339      5    Clean  127"
      ]
     },
     "execution_count": 59,
     "metadata": {},
     "output_type": "execute_result"
    }
   ],
   "source": [
    "water_quality.describe(include=[np.object, pd.Categorical]).T"
   ]
  },
  {
   "cell_type": "markdown",
   "metadata": {},
   "source": [
    "## Water Sanitation"
   ]
  },
  {
   "cell_type": "code",
   "execution_count": 42,
   "metadata": {},
   "outputs": [
    {
     "data": {
      "text/html": [
       "<div>\n",
       "<style>\n",
       "    .dataframe thead tr:only-child th {\n",
       "        text-align: right;\n",
       "    }\n",
       "\n",
       "    .dataframe thead th {\n",
       "        text-align: left;\n",
       "    }\n",
       "\n",
       "    .dataframe tbody tr th {\n",
       "        vertical-align: top;\n",
       "    }\n",
       "</style>\n",
       "<table border=\"1\" class=\"dataframe\">\n",
       "  <thead>\n",
       "    <tr style=\"text-align: right;\">\n",
       "      <th></th>\n",
       "      <th>id</th>\n",
       "      <th>village</th>\n",
       "      <th>floor_material</th>\n",
       "      <th>wall_material</th>\n",
       "      <th>roof_material</th>\n",
       "      <th>toilet_type</th>\n",
       "      <th>toilet_satisfaction</th>\n",
       "      <th>water_in_toilet</th>\n",
       "      <th>rubbish_pit</th>\n",
       "      <th>utensils_rack</th>\n",
       "    </tr>\n",
       "  </thead>\n",
       "  <tbody>\n",
       "    <tr>\n",
       "      <th>0</th>\n",
       "      <td>V4-01</td>\n",
       "      <td>Kazita</td>\n",
       "      <td>earth</td>\n",
       "      <td>mud bricks</td>\n",
       "      <td>galvanised metal sheets / iron sheets</td>\n",
       "      <td>flush toilet with flushing system</td>\n",
       "      <td>fairly satisfied</td>\n",
       "      <td>Water bucket in the toilet</td>\n",
       "      <td>Yes</td>\n",
       "      <td>Yes</td>\n",
       "    </tr>\n",
       "    <tr>\n",
       "      <th>1</th>\n",
       "      <td>V4-02</td>\n",
       "      <td>Kazita</td>\n",
       "      <td>earth</td>\n",
       "      <td>mud bricks</td>\n",
       "      <td>galvanised metal sheets / iron sheets</td>\n",
       "      <td>simple pit latrine unimproved</td>\n",
       "      <td>unsatisifed</td>\n",
       "      <td>Water bucket in the toilet</td>\n",
       "      <td>Yes</td>\n",
       "      <td>Yes</td>\n",
       "    </tr>\n",
       "    <tr>\n",
       "      <th>2</th>\n",
       "      <td>V4-03</td>\n",
       "      <td>Kazita</td>\n",
       "      <td>earth</td>\n",
       "      <td>mud and poles or stones</td>\n",
       "      <td>galvanised metal sheets / iron sheets</td>\n",
       "      <td>flush toilet</td>\n",
       "      <td>very satisfied</td>\n",
       "      <td>Water bucket in the toilet</td>\n",
       "      <td>Yes</td>\n",
       "      <td>Yes</td>\n",
       "    </tr>\n",
       "    <tr>\n",
       "      <th>3</th>\n",
       "      <td>V4-04</td>\n",
       "      <td>Kazita</td>\n",
       "      <td>earth</td>\n",
       "      <td>mud and poles or stones</td>\n",
       "      <td>galvanised metal sheets / iron sheets</td>\n",
       "      <td>flush toilet with flushing system</td>\n",
       "      <td>fairly satisfied</td>\n",
       "      <td>No water in the toilet</td>\n",
       "      <td>No</td>\n",
       "      <td>Yes</td>\n",
       "    </tr>\n",
       "    <tr>\n",
       "      <th>4</th>\n",
       "      <td>V4-05</td>\n",
       "      <td>Kazita</td>\n",
       "      <td>earth</td>\n",
       "      <td>baked or burnt bricks</td>\n",
       "      <td>galvanised metal sheets / iron sheets</td>\n",
       "      <td>flush toilet with flushing system</td>\n",
       "      <td>fairly satisfied</td>\n",
       "      <td>Water bucket in the toilet</td>\n",
       "      <td>Yes</td>\n",
       "      <td>Yes</td>\n",
       "    </tr>\n",
       "  </tbody>\n",
       "</table>\n",
       "</div>"
      ],
      "text/plain": [
       "      id village floor_material            wall_material  \\\n",
       "0  V4-01  Kazita          earth               mud bricks   \n",
       "1  V4-02  Kazita          earth               mud bricks   \n",
       "2  V4-03  Kazita          earth  mud and poles or stones   \n",
       "3  V4-04  Kazita          earth  mud and poles or stones   \n",
       "4  V4-05  Kazita          earth    baked or burnt bricks   \n",
       "\n",
       "                           roof_material                        toilet_type  \\\n",
       "0  galvanised metal sheets / iron sheets  flush toilet with flushing system   \n",
       "1  galvanised metal sheets / iron sheets      simple pit latrine unimproved   \n",
       "2  galvanised metal sheets / iron sheets                       flush toilet   \n",
       "3  galvanised metal sheets / iron sheets  flush toilet with flushing system   \n",
       "4  galvanised metal sheets / iron sheets  flush toilet with flushing system   \n",
       "\n",
       "  toilet_satisfaction             water_in_toilet rubbish_pit utensils_rack  \n",
       "0    fairly satisfied  Water bucket in the toilet         Yes           Yes  \n",
       "1         unsatisifed  Water bucket in the toilet         Yes           Yes  \n",
       "2      very satisfied  Water bucket in the toilet         Yes           Yes  \n",
       "3    fairly satisfied      No water in the toilet          No           Yes  \n",
       "4    fairly satisfied  Water bucket in the toilet         Yes           Yes  "
      ]
     },
     "execution_count": 42,
     "metadata": {},
     "output_type": "execute_result"
    }
   ],
   "source": [
    "water_sanitation.head()"
   ]
  },
  {
   "cell_type": "code",
   "execution_count": 57,
   "metadata": {},
   "outputs": [
    {
     "data": {
      "text/html": [
       "<div>\n",
       "<style>\n",
       "    .dataframe thead tr:only-child th {\n",
       "        text-align: right;\n",
       "    }\n",
       "\n",
       "    .dataframe thead th {\n",
       "        text-align: left;\n",
       "    }\n",
       "\n",
       "    .dataframe tbody tr th {\n",
       "        vertical-align: top;\n",
       "    }\n",
       "</style>\n",
       "<table border=\"1\" class=\"dataframe\">\n",
       "  <thead>\n",
       "    <tr style=\"text-align: right;\">\n",
       "      <th></th>\n",
       "      <th>count</th>\n",
       "      <th>unique</th>\n",
       "      <th>top</th>\n",
       "      <th>freq</th>\n",
       "    </tr>\n",
       "  </thead>\n",
       "  <tbody>\n",
       "    <tr>\n",
       "      <th>id</th>\n",
       "      <td>339</td>\n",
       "      <td>339</td>\n",
       "      <td>V3-09</td>\n",
       "      <td>1</td>\n",
       "    </tr>\n",
       "    <tr>\n",
       "      <th>village</th>\n",
       "      <td>339</td>\n",
       "      <td>8</td>\n",
       "      <td>Misalai</td>\n",
       "      <td>70</td>\n",
       "    </tr>\n",
       "    <tr>\n",
       "      <th>floor_material</th>\n",
       "      <td>339</td>\n",
       "      <td>4</td>\n",
       "      <td>earth</td>\n",
       "      <td>261</td>\n",
       "    </tr>\n",
       "    <tr>\n",
       "      <th>wall_material</th>\n",
       "      <td>339</td>\n",
       "      <td>6</td>\n",
       "      <td>mud and poles or stones</td>\n",
       "      <td>180</td>\n",
       "    </tr>\n",
       "    <tr>\n",
       "      <th>roof_material</th>\n",
       "      <td>339</td>\n",
       "      <td>5</td>\n",
       "      <td>galvanised metal sheets / iron sheets</td>\n",
       "      <td>291</td>\n",
       "    </tr>\n",
       "    <tr>\n",
       "      <th>toilet_type</th>\n",
       "      <td>339</td>\n",
       "      <td>6</td>\n",
       "      <td>simple pit latrine unimproved</td>\n",
       "      <td>189</td>\n",
       "    </tr>\n",
       "    <tr>\n",
       "      <th>toilet_satisfaction</th>\n",
       "      <td>339</td>\n",
       "      <td>4</td>\n",
       "      <td>fairly satisfied</td>\n",
       "      <td>157</td>\n",
       "    </tr>\n",
       "    <tr>\n",
       "      <th>water_in_toilet</th>\n",
       "      <td>337</td>\n",
       "      <td>4</td>\n",
       "      <td>Water bucket in the toilet</td>\n",
       "      <td>311</td>\n",
       "    </tr>\n",
       "    <tr>\n",
       "      <th>rubbish_pit</th>\n",
       "      <td>339</td>\n",
       "      <td>2</td>\n",
       "      <td>Yes</td>\n",
       "      <td>211</td>\n",
       "    </tr>\n",
       "    <tr>\n",
       "      <th>utensils_rack</th>\n",
       "      <td>339</td>\n",
       "      <td>2</td>\n",
       "      <td>Yes</td>\n",
       "      <td>202</td>\n",
       "    </tr>\n",
       "  </tbody>\n",
       "</table>\n",
       "</div>"
      ],
      "text/plain": [
       "                    count unique                                    top freq\n",
       "id                    339    339                                  V3-09    1\n",
       "village               339      8                                Misalai   70\n",
       "floor_material        339      4                                  earth  261\n",
       "wall_material         339      6                mud and poles or stones  180\n",
       "roof_material         339      5  galvanised metal sheets / iron sheets  291\n",
       "toilet_type           339      6          simple pit latrine unimproved  189\n",
       "toilet_satisfaction   339      4                       fairly satisfied  157\n",
       "water_in_toilet       337      4             Water bucket in the toilet  311\n",
       "rubbish_pit           339      2                                    Yes  211\n",
       "utensils_rack         339      2                                    Yes  202"
      ]
     },
     "execution_count": 57,
     "metadata": {},
     "output_type": "execute_result"
    }
   ],
   "source": [
    "water_sanitation.describe(include=[np.object, pd.Categorical]).T"
   ]
  },
  {
   "cell_type": "code",
   "execution_count": 66,
   "metadata": {},
   "outputs": [
    {
     "data": {
      "text/html": [
       "<div>\n",
       "<style>\n",
       "    .dataframe thead tr:only-child th {\n",
       "        text-align: right;\n",
       "    }\n",
       "\n",
       "    .dataframe thead th {\n",
       "        text-align: left;\n",
       "    }\n",
       "\n",
       "    .dataframe tbody tr th {\n",
       "        vertical-align: top;\n",
       "    }\n",
       "</style>\n",
       "<table border=\"1\" class=\"dataframe\">\n",
       "  <thead>\n",
       "    <tr style=\"text-align: right;\">\n",
       "      <th></th>\n",
       "      <th>id</th>\n",
       "      <th>village</th>\n",
       "      <th>dry_season</th>\n",
       "      <th>rainy_season</th>\n",
       "    </tr>\n",
       "  </thead>\n",
       "  <tbody>\n",
       "    <tr>\n",
       "      <th>0</th>\n",
       "      <td>V4-01</td>\n",
       "      <td>Kazita</td>\n",
       "      <td>Quite clean</td>\n",
       "      <td>Quite clean</td>\n",
       "    </tr>\n",
       "    <tr>\n",
       "      <th>1</th>\n",
       "      <td>V4-02</td>\n",
       "      <td>Kazita</td>\n",
       "      <td>Quite clean</td>\n",
       "      <td>Clean</td>\n",
       "    </tr>\n",
       "    <tr>\n",
       "      <th>2</th>\n",
       "      <td>V4-03</td>\n",
       "      <td>Kazita</td>\n",
       "      <td>Clean</td>\n",
       "      <td>Clean</td>\n",
       "    </tr>\n",
       "    <tr>\n",
       "      <th>3</th>\n",
       "      <td>V4-04</td>\n",
       "      <td>Kazita</td>\n",
       "      <td>Clean</td>\n",
       "      <td>Clean</td>\n",
       "    </tr>\n",
       "    <tr>\n",
       "      <th>4</th>\n",
       "      <td>V4-05</td>\n",
       "      <td>Kazita</td>\n",
       "      <td>Quite clean</td>\n",
       "      <td>Quite clean</td>\n",
       "    </tr>\n",
       "  </tbody>\n",
       "</table>\n",
       "</div>"
      ],
      "text/plain": [
       "      id village   dry_season rainy_season\n",
       "0  V4-01  Kazita  Quite clean  Quite clean\n",
       "1  V4-02  Kazita  Quite clean        Clean\n",
       "2  V4-03  Kazita        Clean        Clean\n",
       "3  V4-04  Kazita        Clean        Clean\n",
       "4  V4-05  Kazita  Quite clean  Quite clean"
      ]
     },
     "execution_count": 66,
     "metadata": {},
     "output_type": "execute_result"
    }
   ],
   "source": [
    "\n",
    "np.unique(water_quality['dry_season'])\n",
    "water_quality.head()"
   ]
  },
  {
   "cell_type": "code",
   "execution_count": 78,
   "metadata": {},
   "outputs": [
    {
     "data": {
      "text/plain": [
       "<matplotlib.axes._subplots.AxesSubplot at 0x11125cf98>"
      ]
     },
     "execution_count": 78,
     "metadata": {},
     "output_type": "execute_result"
    }
   ],
   "source": [
    "ax = sns.countplot(y='dry_season', data=water_quality)\n",
    "ax"
   ]
  },
  {
   "cell_type": "markdown",
   "metadata": {},
   "source": [
    "## Calidad del agua por estacion "
   ]
  },
  {
   "cell_type": "markdown",
   "metadata": {},
   "source": [
    "### Sequía "
   ]
  },
  {
   "cell_type": "code",
   "execution_count": 121,
   "metadata": {},
   "outputs": [
    {
     "data": {
      "text/plain": [
       "<matplotlib.axes._subplots.AxesSubplot at 0x1a1acab860>"
      ]
     },
     "execution_count": 121,
     "metadata": {},
     "output_type": "execute_result"
    },
    {
     "data": {
      "image/png": "[encoded data removed]",
      "text/plain": [
       "<matplotlib.figure.Figure at 0x1a1ab75780>"
      ]
     },
     "metadata": {},
     "output_type": "display_data"
    }
   ],
   "source": [
    "sns.countplot(y='dry_season', data=water_quality)"
   ]
  },
  {
   "cell_type": "markdown",
   "metadata": {},
   "source": [
    "### Lluvia "
   ]
  },
  {
   "cell_type": "code",
   "execution_count": 122,
   "metadata": {},
   "outputs": [
    {
     "data": {
      "text/plain": [
       "<matplotlib.axes._subplots.AxesSubplot at 0x113643d30>"
      ]
     },
     "execution_count": 122,
     "metadata": {},
     "output_type": "execute_result"
    },
    {
     "data": {
      "image/png": "[encoded data removed]",
      "text/plain": [
       "<matplotlib.figure.Figure at 0x10f5815c0>"
      ]
     },
     "metadata": {},
     "output_type": "display_data"
    }
   ],
   "source": [
    "sns.countplot(y='rainy_season', data=water_quality)"
   ]
  }
 ],
 "metadata": {
  "kernelspec": {
   "display_name": "Python 3",
   "language": "python",
   "name": "python3"
  },
  "language_info": {
   "codemirror_mode": {
    "name": "ipython",
    "version": 3
   },
   "file_extension": ".py",
   "mimetype": "text/x-python",
   "name": "python",
   "nbconvert_exporter": "python",
   "pygments_lexer": "ipython3",
   "version": "3.6.3"
  }
 },
 "nbformat": 4,
 "nbformat_minor": 2
}
